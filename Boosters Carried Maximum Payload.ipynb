{
  "metadata": {
    "kernelspec": {
      "name": "python",
      "display_name": "Python (Pyodide)",
      "language": "python"
    },
    "language_info": {
      "codemirror_mode": {
        "name": "python",
        "version": 3
      },
      "file_extension": ".py",
      "mimetype": "text/x-python",
      "name": "python",
      "nbconvert_exporter": "python",
      "pygments_lexer": "ipython3",
      "version": "3.8"
    }
  },
  "nbformat_minor": 4,
  "nbformat": 4,
  "cells": [
    {
      "cell_type": "code",
      "source": "with open('dataset_part_2.csv', 'r') as file:\n    lines = file.readlines()\n\nheader = lines[0].strip().split(',')\npayload_index = header.index('PayloadMass')\nbooster_index = header.index('BoosterVersion')\n\nmax_payload = 0\nboosters = set()\n\nfor line in lines[1:]:\n    fields = line.strip().split(',')\n    try:\n        payload = float(fields[payload_index])\n    except:\n        payload = 0\n    if payload > max_payload:\n        max_payload = payload\n        boosters = {fields[booster_index]}\n    elif payload == max_payload:\n        boosters.add(fields[booster_index])\n\nprint(boosters)\n",
      "metadata": {
        "trusted": true
      },
      "outputs": [
        {
          "name": "stdout",
          "text": "{'Falcon 9'}\n",
          "output_type": "stream"
        }
      ],
      "execution_count": 1
    },
    {
      "cell_type": "code",
      "source": "",
      "metadata": {
        "trusted": true
      },
      "outputs": [],
      "execution_count": null
    }
  ]
}