{
 "cells": [
  {
   "cell_type": "code",
   "execution_count": 1,
   "id": "e569a6cd-1310-4544-9dd5-3af7fdb15f1a",
   "metadata": {
    "tags": []
   },
   "outputs": [],
   "source": [
    "import sys\n",
    "\n",
    "import requests\n",
    "from bs4 import BeautifulSoup\n",
    "import re\n",
    "import unicodedata\n",
    "import pandas as pd"
   ]
  },
  {
   "cell_type": "code",
   "execution_count": 2,
   "id": "5f2f2408-a5df-498d-8f55-66d4aabdc7f3",
   "metadata": {
    "tags": []
   },
   "outputs": [],
   "source": [
    "def date_time(table_cells):\n",
    "    \"\"\"\n",
    "    This function returns the data and time from the HTML  table cell\n",
    "    Input: the  element of a table data cell extracts extra row\n",
    "    \"\"\"\n",
    "    return [data_time.strip() for data_time in list(table_cells.strings)][0:2]\n",
    "\n",
    "def booster_version(table_cells):\n",
    "    \"\"\"\n",
    "    This function returns the booster version from the HTML  table cell \n",
    "    Input: the  element of a table data cell extracts extra row\n",
    "    \"\"\"\n",
    "    out=''.join([booster_version for i,booster_version in enumerate( table_cells.strings) if i%2==0][0:-1])\n",
    "    return out\n",
    "\n",
    "def landing_status(table_cells):\n",
    "    \"\"\"\n",
    "    This function returns the landing status from the HTML table cell \n",
    "    Input: the  element of a table data cell extracts extra row\n",
    "    \"\"\"\n",
    "    out=[i for i in table_cells.strings][0]\n",
    "    return out\n",
    "\n",
    "\n",
    "def get_mass(table_cells):\n",
    "    mass=unicodedata.normalize(\"NFKD\", table_cells.text).strip()\n",
    "    if mass:\n",
    "        mass.find(\"kg\")\n",
    "        new_mass=mass[0:mass.find(\"kg\")+2]\n",
    "    else:\n",
    "        new_mass=0\n",
    "    return new_mass\n",
    "\n",
    "\n",
    "def extract_column_from_header(row):\n",
    "    \"\"\"\n",
    "    This function returns the landing status from the HTML table cell \n",
    "    Input: the  element of a table data cell extracts extra row\n",
    "    \"\"\"\n",
    "    if (row.br):\n",
    "        row.br.extract()\n",
    "    if row.a:\n",
    "        row.a.extract()\n",
    "    if row.sup:\n",
    "        row.sup.extract()\n",
    "        \n",
    "    colunm_name = ' '.join(row.contents)\n",
    "    \n",
    "    # Filter the digit and empty names\n",
    "    if not(colunm_name.strip().isdigit()):\n",
    "        colunm_name = colunm_name.strip()\n",
    "        return colunm_name    \n"
   ]
  },
  {
   "cell_type": "code",
   "execution_count": 3,
   "id": "90b5a3f1-d0a9-4529-a2dd-09fbfc6377e6",
   "metadata": {
    "tags": []
   },
   "outputs": [],
   "source": [
    "static_url = \"https://en.wikipedia.org/w/index.php?title=List_of_Falcon_9_and_Falcon_Heavy_launches&oldid=1027686922\""
   ]
  },
  {
   "cell_type": "code",
   "execution_count": 4,
   "id": "a7d3d805-91f4-4882-9c24-c620dd4c4551",
   "metadata": {
    "tags": []
   },
   "outputs": [],
   "source": [
    "response = requests.get(static_url)\n",
    "soup = BeautifulSoup(response.text, 'html.parser')"
   ]
  },
  {
   "cell_type": "code",
   "execution_count": 5,
   "id": "26b79df4-d386-4702-ade2-0960cc7faaa9",
   "metadata": {
    "tags": []
   },
   "outputs": [
    {
     "ename": "SyntaxError",
     "evalue": "invalid syntax (2875368599.py, line 1)",
     "output_type": "error",
     "traceback": [
      "\u001b[0;36m  File \u001b[0;32m\"/tmp/ipykernel_1473/2875368599.py\"\u001b[0;36m, line \u001b[0;32m1\u001b[0m\n\u001b[0;31m    column_names = [name for th in first_launch_table.find_all('th') if (name := extract_column_from_header(th))]\u001b[0m\n\u001b[0m                                                                              ^\u001b[0m\n\u001b[0;31mSyntaxError\u001b[0m\u001b[0;31m:\u001b[0m invalid syntax\n"
     ]
    }
   ],
   "source": [
    "column_names = [name for th in first_launch_table.find_all('th') if (name := extract_column_from_header(th))]"
   ]
  },
  {
   "cell_type": "code",
   "execution_count": 6,
   "id": "ff8f4a2b-332c-4dbd-a01d-03505f6204d2",
   "metadata": {
    "tags": []
   },
   "outputs": [
    {
     "ename": "NameError",
     "evalue": "name 'df' is not defined",
     "output_type": "error",
     "traceback": [
      "\u001b[0;31m---------------------------------------------------------------------------\u001b[0m",
      "\u001b[0;31mNameError\u001b[0m                                 Traceback (most recent call last)",
      "\u001b[0;32m/tmp/ipykernel_1473/652747686.py\u001b[0m in \u001b[0;36m<module>\u001b[0;34m\u001b[0m\n\u001b[0;32m----> 1\u001b[0;31m \u001b[0mdf\u001b[0m\u001b[0;34m.\u001b[0m\u001b[0mto_csv\u001b[0m\u001b[0;34m(\u001b[0m\u001b[0;34m'spacex_web_scraped.csv'\u001b[0m\u001b[0;34m,\u001b[0m \u001b[0mindex\u001b[0m\u001b[0;34m=\u001b[0m\u001b[0;32mFalse\u001b[0m\u001b[0;34m)\u001b[0m\u001b[0;34m\u001b[0m\u001b[0;34m\u001b[0m\u001b[0m\n\u001b[0m",
      "\u001b[0;31mNameError\u001b[0m: name 'df' is not defined"
     ]
    }
   ],
   "source": [
    "df.to_csv('spacex_web_scraped.csv', index=False)"
   ]
  },
  {
   "cell_type": "code",
   "execution_count": 7,
   "id": "b139acd2-1a64-48f1-837a-ee23ebf4b14d",
   "metadata": {
    "tags": []
   },
   "outputs": [
    {
     "name": "stdout",
     "output_type": "stream",
     "text": [
      "Requirement already satisfied: beautifulsoup4 in /home/jupyterlab/conda/envs/python/lib/python3.7/site-packages (4.11.1)\n",
      "Requirement already satisfied: requests in /home/jupyterlab/conda/envs/python/lib/python3.7/site-packages (2.29.0)\n",
      "Requirement already satisfied: soupsieve>1.2 in /home/jupyterlab/conda/envs/python/lib/python3.7/site-packages (from beautifulsoup4) (2.3.2.post1)\n",
      "Requirement already satisfied: charset-normalizer<4,>=2 in /home/jupyterlab/conda/envs/python/lib/python3.7/site-packages (from requests) (3.1.0)\n",
      "Requirement already satisfied: idna<4,>=2.5 in /home/jupyterlab/conda/envs/python/lib/python3.7/site-packages (from requests) (3.4)\n",
      "Requirement already satisfied: urllib3<1.27,>=1.21.1 in /home/jupyterlab/conda/envs/python/lib/python3.7/site-packages (from requests) (1.26.15)\n",
      "Requirement already satisfied: certifi>=2017.4.17 in /home/jupyterlab/conda/envs/python/lib/python3.7/site-packages (from requests) (2023.5.7)\n"
     ]
    },
    {
     "ename": "KeyError",
     "evalue": "'Date and time ( )'",
     "output_type": "error",
     "traceback": [
      "\u001b[0;31m---------------------------------------------------------------------------\u001b[0m",
      "\u001b[0;31mKeyError\u001b[0m                                  Traceback (most recent call last)",
      "\u001b[0;32m/tmp/ipykernel_1473/1373700597.py\u001b[0m in \u001b[0;36m<module>\u001b[0;34m\u001b[0m\n\u001b[1;32m     37\u001b[0m \u001b[0;34m\u001b[0m\u001b[0m\n\u001b[1;32m     38\u001b[0m \u001b[0mlaunch_dict\u001b[0m \u001b[0;34m=\u001b[0m \u001b[0;34m{\u001b[0m\u001b[0mkey\u001b[0m\u001b[0;34m:\u001b[0m\u001b[0;34m[\u001b[0m\u001b[0;34m]\u001b[0m \u001b[0;32mfor\u001b[0m \u001b[0mkey\u001b[0m \u001b[0;32min\u001b[0m \u001b[0mcolumn_names\u001b[0m \u001b[0;34m+\u001b[0m \u001b[0;34m[\u001b[0m\u001b[0;34m'Version Booster'\u001b[0m\u001b[0;34m,\u001b[0m\u001b[0;34m'Date'\u001b[0m\u001b[0;34m,\u001b[0m\u001b[0;34m'Time'\u001b[0m\u001b[0;34m]\u001b[0m\u001b[0;34m}\u001b[0m\u001b[0;34m\u001b[0m\u001b[0;34m\u001b[0m\u001b[0m\n\u001b[0;32m---> 39\u001b[0;31m \u001b[0;32mdel\u001b[0m \u001b[0mlaunch_dict\u001b[0m\u001b[0;34m[\u001b[0m\u001b[0;34m'Date and time ( )'\u001b[0m\u001b[0;34m]\u001b[0m\u001b[0;34m\u001b[0m\u001b[0;34m\u001b[0m\u001b[0m\n\u001b[0m\u001b[1;32m     40\u001b[0m \u001b[0;34m\u001b[0m\u001b[0m\n\u001b[1;32m     41\u001b[0m \u001b[0;32mfor\u001b[0m \u001b[0mtable\u001b[0m \u001b[0;32min\u001b[0m \u001b[0msoup\u001b[0m\u001b[0;34m.\u001b[0m\u001b[0mfind_all\u001b[0m\u001b[0;34m(\u001b[0m\u001b[0;34m'table'\u001b[0m\u001b[0;34m,\u001b[0m\u001b[0;34m\"wikitable plainrowheaders collapsible\"\u001b[0m\u001b[0;34m)\u001b[0m\u001b[0;34m:\u001b[0m\u001b[0;34m\u001b[0m\u001b[0;34m\u001b[0m\u001b[0m\n",
      "\u001b[0;31mKeyError\u001b[0m: 'Date and time ( )'"
     ]
    }
   ],
   "source": [
    "!pip3 install beautifulsoup4 requests\n",
    "import requests\n",
    "from bs4 import BeautifulSoup\n",
    "import pandas as pd\n",
    "import unicodedata\n",
    "\n",
    "def date_time(table_cells):\n",
    "    return [data.strip() for data in list(table_cells.strings)][0:2]\n",
    "\n",
    "def booster_version(table_cells):\n",
    "    return ''.join([str for i,str in enumerate(table_cells.strings) if i%2==0][0:-1])\n",
    "\n",
    "def landing_status(table_cells):\n",
    "    return [i for i in table_cells.strings][0]\n",
    "\n",
    "def get_mass(table_cells):\n",
    "    mass = unicodedata.normalize(\"NFKD\", table_cells.text).strip()\n",
    "    return mass[0:mass.find(\"kg\")+2] if mass and \"kg\" in mass else 0\n",
    "\n",
    "def extract_column_from_header(row):\n",
    "    for tag in ['br','a','sup']:\n",
    "        [x.extract() for x in row.find_all(tag)]\n",
    "    return row.text.strip() if not row.text.strip().isdigit() else None\n",
    "\n",
    "static_url = \"https://en.wikipedia.org/w/index.php?title=List_of_Falcon_9_and_Falcon_Heavy_launches&oldid=1027686922\"\n",
    "response = requests.get(static_url)\n",
    "soup = BeautifulSoup(response.text, 'html.parser')\n",
    "\n",
    "html_tables = soup.find_all('table')\n",
    "first_launch_table = html_tables[2]\n",
    "\n",
    "column_names = []\n",
    "for th in first_launch_table.find_all('th'):\n",
    "    name = extract_column_from_header(th)\n",
    "    if name:\n",
    "        column_names.append(name)\n",
    "\n",
    "launch_dict = {key:[] for key in column_names + ['Version Booster','Date','Time']}\n",
    "del launch_dict['Date and time ( )']\n",
    "\n",
    "for table in soup.find_all('table',\"wikitable plainrowheaders collapsible\"):\n",
    "    for row in table.find_all(\"tr\"):\n",
    "        if row.th and row.th.string and row.th.string.strip().isdigit():\n",
    "            cells = row.find_all('td')\n",
    "            flight_num = row.th.string.strip()\n",
    "            \n",
    "            date, time = date_time(cells[0])\n",
    "            bv = booster_version(cells[1]) or cells[1].a.string\n",
    "            \n",
    "            launch_dict['Flight No.'].append(flight_num)\n",
    "            launch_dict['Date'].append(date.strip(','))\n",
    "            launch_dict['Time'].append(time)\n",
    "            launch_dict['Version Booster'].append(bv)\n",
    "            launch_dict['Launch site'].append(cells[2].a.string if cells[2].a else '')\n",
    "            launch_dict['Payload'].append(cells[3].a.string if cells[3].a else '')\n",
    "            launch_dict['Payload mass'].append(get_mass(cells[4]))\n",
    "            launch_dict['Orbit'].append(cells[5].a.string if cells[5].a else '')\n",
    "            launch_dict['Customer'].append(cells[6].a.string if cells[6].a else '')\n",
    "            launch_dict['Launch outcome'].append(list(cells[7].strings)[0])\n",
    "            launch_dict['Booster landing'].append(landing_status(cells[8]))\n",
    "\n",
    "df = pd.DataFrame(launch_dict)\n",
    "df.to_csv('spacex_web_scraped.csv', index=False)\n",
    "print(f\"Data saved to spacex_web_scraped.csv | Records: {len(df)}\")"
   ]
  },
  {
   "cell_type": "code",
   "execution_count": 8,
   "id": "41daa518-d608-46d5-b8f2-9aa29c8dc5f8",
   "metadata": {
    "tags": []
   },
   "outputs": [
    {
     "name": "stdout",
     "output_type": "stream",
     "text": [
      "Requirement already satisfied: beautifulsoup4 in /home/jupyterlab/conda/envs/python/lib/python3.7/site-packages (4.11.1)\n",
      "Requirement already satisfied: requests in /home/jupyterlab/conda/envs/python/lib/python3.7/site-packages (2.29.0)\n",
      "Requirement already satisfied: soupsieve>1.2 in /home/jupyterlab/conda/envs/python/lib/python3.7/site-packages (from beautifulsoup4) (2.3.2.post1)\n",
      "Requirement already satisfied: charset-normalizer<4,>=2 in /home/jupyterlab/conda/envs/python/lib/python3.7/site-packages (from requests) (3.1.0)\n",
      "Requirement already satisfied: idna<4,>=2.5 in /home/jupyterlab/conda/envs/python/lib/python3.7/site-packages (from requests) (3.4)\n",
      "Requirement already satisfied: urllib3<1.27,>=1.21.1 in /home/jupyterlab/conda/envs/python/lib/python3.7/site-packages (from requests) (1.26.15)\n",
      "Requirement already satisfied: certifi>=2017.4.17 in /home/jupyterlab/conda/envs/python/lib/python3.7/site-packages (from requests) (2023.5.7)\n"
     ]
    },
    {
     "ename": "IndexError",
     "evalue": "list index out of range",
     "output_type": "error",
     "traceback": [
      "\u001b[0;31m---------------------------------------------------------------------------\u001b[0m",
      "\u001b[0;31mIndexError\u001b[0m                                Traceback (most recent call last)",
      "\u001b[0;32m/tmp/ipykernel_1473/356220152.py\u001b[0m in \u001b[0;36m<module>\u001b[0;34m\u001b[0m\n\u001b[1;32m     37\u001b[0m \u001b[0;34m\u001b[0m\u001b[0m\n\u001b[1;32m     38\u001b[0m \u001b[0;31m# Verifica el nombre exacto de la columna de fecha/hora\u001b[0m\u001b[0;34m\u001b[0m\u001b[0;34m\u001b[0m\u001b[0;34m\u001b[0m\u001b[0m\n\u001b[0;32m---> 39\u001b[0;31m \u001b[0mdate_time_key\u001b[0m \u001b[0;34m=\u001b[0m \u001b[0;34m[\u001b[0m\u001b[0mkey\u001b[0m \u001b[0;32mfor\u001b[0m \u001b[0mkey\u001b[0m \u001b[0;32min\u001b[0m \u001b[0mcolumn_names\u001b[0m \u001b[0;32mif\u001b[0m \u001b[0;34m\"Date and time\"\u001b[0m \u001b[0;32min\u001b[0m \u001b[0mkey\u001b[0m\u001b[0;34m]\u001b[0m\u001b[0;34m[\u001b[0m\u001b[0;36m0\u001b[0m\u001b[0;34m]\u001b[0m\u001b[0;34m\u001b[0m\u001b[0;34m\u001b[0m\u001b[0m\n\u001b[0m\u001b[1;32m     40\u001b[0m \u001b[0;34m\u001b[0m\u001b[0m\n\u001b[1;32m     41\u001b[0m \u001b[0mlaunch_dict\u001b[0m \u001b[0;34m=\u001b[0m \u001b[0;34m{\u001b[0m\u001b[0mkey\u001b[0m\u001b[0;34m:\u001b[0m\u001b[0;34m[\u001b[0m\u001b[0;34m]\u001b[0m \u001b[0;32mfor\u001b[0m \u001b[0mkey\u001b[0m \u001b[0;32min\u001b[0m \u001b[0mcolumn_names\u001b[0m \u001b[0;34m+\u001b[0m \u001b[0;34m[\u001b[0m\u001b[0;34m'Version Booster'\u001b[0m\u001b[0;34m,\u001b[0m\u001b[0;34m'Date'\u001b[0m\u001b[0;34m,\u001b[0m\u001b[0;34m'Time'\u001b[0m\u001b[0;34m]\u001b[0m\u001b[0;34m}\u001b[0m\u001b[0;34m\u001b[0m\u001b[0;34m\u001b[0m\u001b[0m\n",
      "\u001b[0;31mIndexError\u001b[0m: list index out of range"
     ]
    }
   ],
   "source": [
    "!pip3 install beautifulsoup4 requests\n",
    "import requests\n",
    "from bs4 import BeautifulSoup\n",
    "import pandas as pd\n",
    "import unicodedata\n",
    "\n",
    "def date_time(table_cells):\n",
    "    return [data.strip() for data in list(table_cells.strings)][0:2]\n",
    "\n",
    "def booster_version(table_cells):\n",
    "    return ''.join([str for i,str in enumerate(table_cells.strings) if i%2==0][0:-1])\n",
    "\n",
    "def landing_status(table_cells):\n",
    "    return [i for i in table_cells.strings][0]\n",
    "\n",
    "def get_mass(table_cells):\n",
    "    mass = unicodedata.normalize(\"NFKD\", table_cells.text).strip()\n",
    "    return mass[0:mass.find(\"kg\")+2] if mass and \"kg\" in mass else 0\n",
    "\n",
    "def extract_column_from_header(row):\n",
    "    for tag in ['br','a','sup']:\n",
    "        [x.extract() for x in row.find_all(tag)]\n",
    "    return row.text.strip() if not row.text.strip().isdigit() else None\n",
    "\n",
    "static_url = \"https://en.wikipedia.org/w/index.php?title=List_of_Falcon_9_and_Falcon_Heavy_launches&oldid=1027686922\"\n",
    "response = requests.get(static_url)\n",
    "soup = BeautifulSoup(response.text, 'html.parser')\n",
    "\n",
    "html_tables = soup.find_all('table')\n",
    "first_launch_table = html_tables[2]\n",
    "\n",
    "column_names = []\n",
    "for th in first_launch_table.find_all('th'):\n",
    "    name = extract_column_from_header(th)\n",
    "    if name:\n",
    "        column_names.append(name)\n",
    "\n",
    "# Verifica el nombre exacto de la columna de fecha/hora\n",
    "date_time_key = [key for key in column_names if \"Date and time\" in key][0]\n",
    "\n",
    "launch_dict = {key:[] for key in column_names + ['Version Booster','Date','Time']}\n",
    "if date_time_key in launch_dict:\n",
    "    del launch_dict[date_time_key]\n",
    "\n",
    "for table in soup.find_all('table',\"wikitable plainrowheaders collapsible\"):\n",
    "    for row in table.find_all(\"tr\"):\n",
    "        if row.th and row.th.string and row.th.string.strip().isdigit():\n",
    "            cells = row.find_all('td')\n",
    "            flight_num = row.th.string.strip()\n",
    "            \n",
    "            date, time = date_time(cells[0])\n",
    "            bv = booster_version(cells[1]) or cells[1].a.string\n",
    "            \n",
    "            launch_dict['Flight No.'].append(flight_num)\n",
    "            launch_dict['Date'].append(date.strip(','))\n",
    "            launch_dict['Time'].append(time)\n",
    "            launch_dict['Version Booster'].append(bv)\n",
    "            launch_dict['Launch site'].append(cells[2].a.string if cells[2].a else '')\n",
    "            launch_dict['Payload'].append(cells[3].a.string if cells[3].a else '')\n",
    "            launch_dict['Payload mass'].append(get_mass(cells[4]))\n",
    "            launch_dict['Orbit'].append(cells[5].a.string if cells[5].a else '')\n",
    "            launch_dict['Customer'].append(cells[6].a.string if cells[6].a else '')\n",
    "            launch_dict['Launch outcome'].append(list(cells[7].strings)[0])\n",
    "            launch_dict['Booster landing'].append(landing_status(cells[8]))\n",
    "\n",
    "df = pd.DataFrame(launch_dict)\n",
    "df.to_csv('spacex_web_scraped.csv', index=False)\n",
    "print(f\"Data saved to spacex_web_scraped.csv | Records: {len(df)}\")"
   ]
  },
  {
   "cell_type": "code",
   "execution_count": 9,
   "id": "d26be434-ff9d-495f-b76a-9214cf7f22ef",
   "metadata": {
    "tags": []
   },
   "outputs": [
    {
     "name": "stdout",
     "output_type": "stream",
     "text": [
      "                                          Flight No.  \\\n",
      "0                                                  1   \n",
      "1  First flight of Falcon 9 v1.0.[11]Used a boile...   \n",
      "2                                                  2   \n",
      "3  Maiden flight ofDragon capsule, consisting of ...   \n",
      "4                                                  3   \n",
      "\n",
      "                        Date               Booster  \n",
      "0          4 June 2010,18:45  F9 v1.0[7]B0003.1[8]  \n",
      "1                       None                  None  \n",
      "2  8 December 2010,15:43[13]  F9 v1.0[7]B0004.1[8]  \n",
      "3                       None                  None  \n",
      "4      22 May 2012,07:44[17]  F9 v1.0[7]B0005.1[8]  \n"
     ]
    }
   ],
   "source": [
    "import requests\n",
    "from bs4 import BeautifulSoup\n",
    "import pandas as pd\n",
    "\n",
    "# Fetch Wikipedia page\n",
    "url = \"https://en.wikipedia.org/w/index.php?title=List_of_Falcon_9_and_Falcon_Heavy_launches&oldid=1027686922\"\n",
    "response = requests.get(url)\n",
    "soup = BeautifulSoup(response.text, 'html.parser')\n",
    "\n",
    "# Extract table\n",
    "table = soup.find_all('table', class_=\"wikitable plainrowheaders collapsible\")[0]\n",
    "rows = table.find_all('tr')\n",
    "\n",
    "# Simple data extraction (ejemplo para 3 columnas)\n",
    "data = []\n",
    "for row in rows[1:6]:  # Solo primeras 5 filas para el ejemplo\n",
    "    cols = row.find_all(['th', 'td'])\n",
    "    data.append([col.get_text(strip=True) for col in cols[:3]])  # Flight No., Date, Booster\n",
    "\n",
    "# Convert to DataFrame\n",
    "df = pd.DataFrame(data, columns=['Flight No.', 'Date', 'Booster'])\n",
    "print(df.head())"
   ]
  },
  {
   "cell_type": "code",
   "execution_count": null,
   "id": "8cafbbff-53f0-4983-9977-9f02aab3edf3",
   "metadata": {},
   "outputs": [],
   "source": []
  }
 ],
 "metadata": {
  "kernelspec": {
   "display_name": "Python",
   "language": "python",
   "name": "conda-env-python-py"
  },
  "language_info": {
   "codemirror_mode": {
    "name": "ipython",
    "version": 3
   },
   "file_extension": ".py",
   "mimetype": "text/x-python",
   "name": "python",
   "nbconvert_exporter": "python",
   "pygments_lexer": "ipython3",
   "version": "3.7.12"
  }
 },
 "nbformat": 4,
 "nbformat_minor": 5
}
