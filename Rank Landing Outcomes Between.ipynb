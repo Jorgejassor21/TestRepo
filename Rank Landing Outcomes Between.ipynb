{
  "metadata": {
    "kernelspec": {
      "name": "python",
      "display_name": "Python (Pyodide)",
      "language": "python"
    },
    "language_info": {
      "codemirror_mode": {
        "name": "python",
        "version": 3
      },
      "file_extension": ".py",
      "mimetype": "text/x-python",
      "name": "python",
      "nbconvert_exporter": "python",
      "pygments_lexer": "ipython3",
      "version": "3.8"
    }
  },
  "nbformat_minor": 4,
  "nbformat": 4,
  "cells": [
    {
      "cell_type": "code",
      "source": "from datetime import datetime\n\nstart_date = datetime.strptime('2010-06-04', '%Y-%m-%d')\nend_date = datetime.strptime('2017-03-20', '%Y-%m-%d')\n\nlanding_results = {}\n\nfor row in data:\n    date = datetime.strptime(row['Date'], '%Y-%m-%d')\n    if start_date <= date <= end_date:\n        outcome = row['Outcome']\n        landing_results[outcome] = landing_results.get(outcome, 0) + 1\n\nsorted_results = sorted(landing_results.items(), key=lambda x: x[1], reverse=True)\n\nprint(sorted_results)\n",
      "metadata": {
        "trusted": true
      },
      "outputs": [
        {
          "ename": "<class 'NameError'>",
          "evalue": "name 'data' is not defined",
          "traceback": [
            "\u001b[0;31m---------------------------------------------------------------------------\u001b[0m",
            "\u001b[0;31mNameError\u001b[0m                                 Traceback (most recent call last)",
            "Cell \u001b[0;32mIn[1], line 8\u001b[0m\n\u001b[1;32m      4\u001b[0m end_date \u001b[38;5;241m=\u001b[39m datetime\u001b[38;5;241m.\u001b[39mstrptime(\u001b[38;5;124m'\u001b[39m\u001b[38;5;124m2017-03-20\u001b[39m\u001b[38;5;124m'\u001b[39m, \u001b[38;5;124m'\u001b[39m\u001b[38;5;124m%\u001b[39m\u001b[38;5;124mY-\u001b[39m\u001b[38;5;124m%\u001b[39m\u001b[38;5;124mm-\u001b[39m\u001b[38;5;132;01m%d\u001b[39;00m\u001b[38;5;124m'\u001b[39m)\n\u001b[1;32m      6\u001b[0m landing_results \u001b[38;5;241m=\u001b[39m {}\n\u001b[0;32m----> 8\u001b[0m \u001b[38;5;28;01mfor\u001b[39;00m row \u001b[38;5;129;01min\u001b[39;00m \u001b[43mdata\u001b[49m:\n\u001b[1;32m      9\u001b[0m     date \u001b[38;5;241m=\u001b[39m datetime\u001b[38;5;241m.\u001b[39mstrptime(row[\u001b[38;5;124m'\u001b[39m\u001b[38;5;124mDate\u001b[39m\u001b[38;5;124m'\u001b[39m], \u001b[38;5;124m'\u001b[39m\u001b[38;5;124m%\u001b[39m\u001b[38;5;124mY-\u001b[39m\u001b[38;5;124m%\u001b[39m\u001b[38;5;124mm-\u001b[39m\u001b[38;5;132;01m%d\u001b[39;00m\u001b[38;5;124m'\u001b[39m)\n\u001b[1;32m     10\u001b[0m     \u001b[38;5;28;01mif\u001b[39;00m start_date \u001b[38;5;241m<\u001b[39m\u001b[38;5;241m=\u001b[39m date \u001b[38;5;241m<\u001b[39m\u001b[38;5;241m=\u001b[39m end_date:\n",
            "\u001b[0;31mNameError\u001b[0m: name 'data' is not defined"
          ],
          "output_type": "error"
        }
      ],
      "execution_count": 1
    },
    {
      "cell_type": "code",
      "source": "import csv\nfrom datetime import datetime\n\nfilename = 'dataset_part_2.csv'\n\nwith open(filename, mode='r') as file:\n    reader = csv.DictReader(file)\n    data = [row for row in reader]\n\nstart_date = datetime.strptime('2010-06-04', '%Y-%m-%d')\nend_date = datetime.strptime('2017-03-20', '%Y-%m-%d')\n\nlanding_results = {}\n\nfor row in data:\n    date = datetime.strptime(row['Date'], '%Y-%m-%d')\n    if start_date <= date <= end_date:\n        outcome = row['Outcome']\n        landing_results[outcome] = landing_results.get(outcome, 0) + 1\n\nsorted_results = sorted(landing_results.items(), key=lambda x: x[1], reverse=True)\n\nprint(sorted_results)\n",
      "metadata": {
        "trusted": true
      },
      "outputs": [
        {
          "name": "stdout",
          "text": "[('None None', 9), ('True ASDS', 5), ('False ASDS', 4), ('True Ocean', 3), ('True RTLS', 3), ('False Ocean', 2), ('None ASDS', 2)]\n",
          "output_type": "stream"
        }
      ],
      "execution_count": 2
    }
  ]
}