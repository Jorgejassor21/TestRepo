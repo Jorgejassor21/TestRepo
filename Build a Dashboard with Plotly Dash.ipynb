{
  "metadata": {
    "kernelspec": {
      "name": "python",
      "display_name": "Python (Pyodide)",
      "language": "python"
    },
    "language_info": {
      "codemirror_mode": {
        "name": "python",
        "version": 3
      },
      "file_extension": ".py",
      "mimetype": "text/x-python",
      "name": "python",
      "nbconvert_exporter": "python",
      "pygments_lexer": "ipython3",
      "version": "3.8"
    }
  },
  "nbformat_minor": 4,
  "nbformat": 4,
  "cells": [
    {
      "cell_type": "code",
      "source": "\n\nimport pandas as pd\nimport plotly.express as px\nfrom dash import Dash, dcc, html, Input, Output\n\nspacex_df = pd.read_csv('spacex_launch_dash.csv')\nmax_payload = spacex_df['Payload Mass (kg)'].max()\nmin_payload = spacex_df['Payload Mass (kg)'].min()\n\napp = Dash(__name__)\n\napp.layout = html.Div(children=[\n    html.H1('SpaceX Launch Records Dashboard',\n            style={'textAlign': 'center', 'color': '#503D36', 'font-size': 40}),\n    \n    dcc.Dropdown(\n        id='site-dropdown',\n        options=[\n            {'label': 'All Sites', 'value': 'ALL'},\n            {'label': 'CCAFS LC-40', 'value': 'CCAFS LC-40'},\n            {'label': 'VAFB SLC-4E', 'value': 'VAFB SLC-4E'},\n            {'label': 'KSC LC-39A', 'value': 'KSC LC-39A'},\n            {'label': 'CCAFS SLC-40', 'value': 'CCAFS SLC-40'}\n        ],\n        value='ALL',\n        placeholder=\"Select a Launch Site\",\n        searchable=True\n    ),\n    \n    html.Br(),\n    html.Div(dcc.Graph(id='success-pie-chart')),\n    html.Br(),\n    html.P(\"Payload range (Kg):\"),\n    \n    dcc.RangeSlider(\n        id='payload-slider',\n        min=0,\n        max=10000,\n        step=1000,\n        marks={0: '0', 2500: '2500', 5000: '5000', 7500: '7500', 10000: '10000'},\n        value=[min_payload, max_payload]\n    ),\n    \n    html.Div(dcc.Graph(id='success-payload-scatter-chart'))\n])\n\n@app.callback(\n    Output('success-pie-chart', 'figure'),\n    Input('site-dropdown', 'value')\n)\ndef update_pie(entered_site):\n    if entered_site == 'ALL':\n        fig = px.pie(spacex_df, names='Launch Site', title='Total Launches by Site')\n    else:\n        filtered_df = spacex_df[spacex_df['Launch Site'] == entered_site]\n        fig = px.pie(filtered_df, names='class', title=f'Launch Outcomes for {entered_site}')\n    return fig\n\n@app.callback(\n    Output('success-payload-scatter-chart', 'figure'),\n    [Input('site-dropdown', 'value'),\n     Input('payload-slider', 'value')]\n)\ndef update_scatter(entered_site, payload_range):\n    low, high = payload_range\n    mask = (spacex_df['Payload Mass (kg)'] > low) & (spacex_df['Payload Mass (kg)'] < high)\n    \n    if entered_site == 'ALL':\n        filtered_df = spacex_df[mask]\n        fig = px.scatter(filtered_df, x='Payload Mass (kg)', y='class', \n                         color='Booster Version Category', title='Payload vs Outcome (All Sites)')\n    else:\n        filtered_df = spacex_df[(spacex_df['Launch Site'] == entered_site) & mask]\n        fig = px.scatter(filtered_df, x='Payload Mass (kg)', y='class', \n                         color='Booster Version Category', title=f'Payload vs Outcome for {entered_site}')\n    return fig\n\nif __name__ == '__main__':\n    app.run_server()",
      "metadata": {
        "trusted": true
      },
      "outputs": [
        {
          "name": "stderr",
          "text": "<ipython-input-1-1018b0f011f0>:1: DeprecationWarning: \nPyarrow will become a required dependency of pandas in the next major release of pandas (pandas 3.0),\n(to allow more performant data types, such as the Arrow string type, and better interoperability with other libraries)\nbut was not found to be installed on your system.\nIf this would cause problems for you,\nplease provide us feedback at https://github.com/pandas-dev/pandas/issues/54466\n        \n  import pandas as pd\n",
          "output_type": "stream"
        },
        {
          "ename": "<class 'ModuleNotFoundError'>",
          "evalue": "No module named 'plotly'",
          "traceback": [
            "\u001b[0;31m---------------------------------------------------------------------------\u001b[0m",
            "\u001b[0;31mModuleNotFoundError\u001b[0m                       Traceback (most recent call last)",
            "Cell \u001b[0;32mIn[1], line 2\u001b[0m\n\u001b[1;32m      1\u001b[0m \u001b[38;5;28;01mimport\u001b[39;00m \u001b[38;5;21;01mpandas\u001b[39;00m \u001b[38;5;28;01mas\u001b[39;00m \u001b[38;5;21;01mpd\u001b[39;00m\n\u001b[0;32m----> 2\u001b[0m \u001b[38;5;28;01mimport\u001b[39;00m \u001b[38;5;21;01mplotly\u001b[39;00m\u001b[38;5;21;01m.\u001b[39;00m\u001b[38;5;21;01mexpress\u001b[39;00m \u001b[38;5;28;01mas\u001b[39;00m \u001b[38;5;21;01mpx\u001b[39;00m\n\u001b[1;32m      3\u001b[0m \u001b[38;5;28;01mfrom\u001b[39;00m \u001b[38;5;21;01mdash\u001b[39;00m \u001b[38;5;28;01mimport\u001b[39;00m Dash, dcc, html, Input, Output\n\u001b[1;32m      5\u001b[0m spacex_df \u001b[38;5;241m=\u001b[39m pd\u001b[38;5;241m.\u001b[39mread_csv(\u001b[38;5;124m'\u001b[39m\u001b[38;5;124mspacex_launch_dash.csv\u001b[39m\u001b[38;5;124m'\u001b[39m)\n",
            "\u001b[0;31mModuleNotFoundError\u001b[0m: No module named 'plotly'"
          ],
          "output_type": "error"
        }
      ],
      "execution_count": 1
    },
    {
      "cell_type": "code",
      "source": "import pandas as pd\nimport plotly.express as px\nfrom dash import Dash, dcc, html, Input, Output\n\nspacex_df = pd.read_csv('spacex_launch_dash.csv')\nmax_payload = spacex_df['Payload Mass (kg)'].max()\nmin_payload = spacex_df['Payload Mass (kg)'].min()\n\napp = Dash(__name__)\n\napp.layout = html.Div(children=[\n    html.H1('SpaceX Launch Records Dashboard',\n            style={'textAlign': 'center', 'color': '#503D36', 'font-size': 40}),\n    \n    dcc.Dropdown(\n        id='site-dropdown',\n        options=[\n            {'label': 'All Sites', 'value': 'ALL'},\n            {'label': 'CCAFS LC-40', 'value': 'CCAFS LC-40'},\n            {'label': 'VAFB SLC-4E', 'value': 'VAFB SLC-4E'},\n            {'label': 'KSC LC-39A', 'value': 'KSC LC-39A'},\n            {'label': 'CCAFS SLC-40', 'value': 'CCAFS SLC-40'}\n        ],\n        value='ALL',\n        placeholder=\"Select a Launch Site\",\n        searchable=True\n    ),\n    \n    html.Br(),\n    html.Div(dcc.Graph(id='success-pie-chart')),\n    html.Br(),\n    html.P(\"Payload range (Kg):\"),\n    \n    dcc.RangeSlider(\n        id='payload-slider',\n        min=0,\n        max=10000,\n        step=1000,\n        marks={0: '0', 2500: '2500', 5000: '5000', 7500: '7500', 10000: '10000'},\n        value=[min_payload, max_payload]\n    ),\n    \n    html.Div(dcc.Graph(id='success-payload-scatter-chart'))\n])\n\n@app.callback(\n    Output('success-pie-chart', 'figure'),\n    Input('site-dropdown', 'value')\n)\ndef update_pie(entered_site):\n    if entered_site == 'ALL':\n        fig = px.pie(spacex_df, names='Launch Site', title='Total Launches by Site')\n    else:\n        filtered_df = spacex_df[spacex_df['Launch Site'] == entered_site]\n        fig = px.pie(filtered_df, names='class', title=f'Launch Outcomes for {entered_site}')\n    return fig\n\n@app.callback(\n    Output('success-payload-scatter-chart', 'figure'),\n    [Input('site-dropdown', 'value'),\n     Input('payload-slider', 'value')]\n)\ndef update_scatter(entered_site, payload_range):\n    low, high = payload_range\n    mask = (spacex_df['Payload Mass (kg)'] > low) & (spacex_df['Payload Mass (kg)'] < high)\n    \n    if entered_site == 'ALL':\n        filtered_df = spacex_df[mask]\n        fig = px.scatter(filtered_df, x='Payload Mass (kg)', y='class', \n                         color='Booster Version Category', title='Payload vs Outcome (All Sites)')\n    else:\n        filtered_df = spacex_df[(spacex_df['Launch Site'] == entered_site) & mask]\n        fig = px.scatter(filtered_df, x='Payload Mass (kg)', y='class', \n                         color='Booster Version Category', title=f'Payload vs Outcome for {entered_site}')\n    return fig\n\nif __name__ == '__main__':\n    app.run_server(debug=False)",
      "metadata": {
        "trusted": true
      },
      "outputs": [
        {
          "ename": "<class 'ModuleNotFoundError'>",
          "evalue": "No module named 'plotly'",
          "traceback": [
            "\u001b[0;31m---------------------------------------------------------------------------\u001b[0m",
            "\u001b[0;31mModuleNotFoundError\u001b[0m                       Traceback (most recent call last)",
            "Cell \u001b[0;32mIn[2], line 2\u001b[0m\n\u001b[1;32m      1\u001b[0m \u001b[38;5;28;01mimport\u001b[39;00m \u001b[38;5;21;01mpandas\u001b[39;00m \u001b[38;5;28;01mas\u001b[39;00m \u001b[38;5;21;01mpd\u001b[39;00m\n\u001b[0;32m----> 2\u001b[0m \u001b[38;5;28;01mimport\u001b[39;00m \u001b[38;5;21;01mplotly\u001b[39;00m\u001b[38;5;21;01m.\u001b[39;00m\u001b[38;5;21;01mexpress\u001b[39;00m \u001b[38;5;28;01mas\u001b[39;00m \u001b[38;5;21;01mpx\u001b[39;00m\n\u001b[1;32m      3\u001b[0m \u001b[38;5;28;01mfrom\u001b[39;00m \u001b[38;5;21;01mdash\u001b[39;00m \u001b[38;5;28;01mimport\u001b[39;00m Dash, dcc, html, Input, Output\n\u001b[1;32m      5\u001b[0m spacex_df \u001b[38;5;241m=\u001b[39m pd\u001b[38;5;241m.\u001b[39mread_csv(\u001b[38;5;124m'\u001b[39m\u001b[38;5;124mspacex_launch_dash.csv\u001b[39m\u001b[38;5;124m'\u001b[39m)\n",
            "\u001b[0;31mModuleNotFoundError\u001b[0m: No module named 'plotly'"
          ],
          "output_type": "error"
        }
      ],
      "execution_count": 2
    },
    {
      "cell_type": "code",
      "source": "!pip install plotly dash pandas --quiet",
      "metadata": {
        "trusted": true
      },
      "outputs": [
        {
          "ename": "<class 'OSError'>",
          "evalue": "Not available",
          "traceback": [
            "\u001b[0;31m---------------------------------------------------------------------------\u001b[0m",
            "\u001b[0;31mOSError\u001b[0m                                   Traceback (most recent call last)",
            "Cell \u001b[0;32mIn[3], line 1\u001b[0m\n\u001b[0;32m----> 1\u001b[0m \u001b[43mget_ipython\u001b[49m\u001b[43m(\u001b[49m\u001b[43m)\u001b[49m\u001b[38;5;241;43m.\u001b[39;49m\u001b[43msystem\u001b[49m\u001b[43m(\u001b[49m\u001b[38;5;124;43m'\u001b[39;49m\u001b[38;5;124;43mpip install plotly dash pandas --quiet\u001b[39;49m\u001b[38;5;124;43m'\u001b[39;49m\u001b[43m)\u001b[49m\n",
            "File \u001b[0;32m/lib/python3.12/site-packages/IPython/core/interactiveshell.py:2653\u001b[0m, in \u001b[0;36mInteractiveShell.system_piped\u001b[0;34m(self, cmd)\u001b[0m\n\u001b[1;32m   2648\u001b[0m     \u001b[38;5;28;01mraise\u001b[39;00m \u001b[38;5;167;01mOSError\u001b[39;00m(\u001b[38;5;124m\"\u001b[39m\u001b[38;5;124mBackground processes not supported.\u001b[39m\u001b[38;5;124m\"\u001b[39m)\n\u001b[1;32m   2650\u001b[0m \u001b[38;5;66;03m# we explicitly do NOT return the subprocess status code, because\u001b[39;00m\n\u001b[1;32m   2651\u001b[0m \u001b[38;5;66;03m# a non-None value would trigger :func:`sys.displayhook` calls.\u001b[39;00m\n\u001b[1;32m   2652\u001b[0m \u001b[38;5;66;03m# Instead, we store the exit_code in user_ns.\u001b[39;00m\n\u001b[0;32m-> 2653\u001b[0m \u001b[38;5;28mself\u001b[39m\u001b[38;5;241m.\u001b[39muser_ns[\u001b[38;5;124m'\u001b[39m\u001b[38;5;124m_exit_code\u001b[39m\u001b[38;5;124m'\u001b[39m] \u001b[38;5;241m=\u001b[39m \u001b[43msystem\u001b[49m\u001b[43m(\u001b[49m\u001b[38;5;28;43mself\u001b[39;49m\u001b[38;5;241;43m.\u001b[39;49m\u001b[43mvar_expand\u001b[49m\u001b[43m(\u001b[49m\u001b[43mcmd\u001b[49m\u001b[43m,\u001b[49m\u001b[43m \u001b[49m\u001b[43mdepth\u001b[49m\u001b[38;5;241;43m=\u001b[39;49m\u001b[38;5;241;43m1\u001b[39;49m\u001b[43m)\u001b[49m\u001b[43m)\u001b[49m\n",
            "File \u001b[0;32m/lib/python3.12/site-packages/IPython/utils/_process_emscripten.py:11\u001b[0m, in \u001b[0;36msystem\u001b[0;34m(cmd)\u001b[0m\n\u001b[1;32m     10\u001b[0m \u001b[38;5;28;01mdef\u001b[39;00m \u001b[38;5;21msystem\u001b[39m(cmd):\n\u001b[0;32m---> 11\u001b[0m     \u001b[38;5;28;01mraise\u001b[39;00m \u001b[38;5;167;01mOSError\u001b[39;00m(\u001b[38;5;124m\"\u001b[39m\u001b[38;5;124mNot available\u001b[39m\u001b[38;5;124m\"\u001b[39m)\n",
            "\u001b[0;31mOSError\u001b[0m: Not available"
          ],
          "output_type": "error"
        }
      ],
      "execution_count": 3
    },
    {
      "cell_type": "code",
      "source": "# PRIMERO: Instalar paquetes usando el método de IBM\nimport sys\n!{sys.executable} -m pip install --user plotly dash pandas\n\n# SEGUNDO: Código principal del dashboard\nimport pandas as pd\nimport plotly.express as px\nfrom dash import Dash, dcc, html, Input, Output\n\n# Cargar datos (asegúrate de tener el archivo CSV)\nspacex_df = pd.read_csv('spacex_launch_dash.csv')\n\n# Configuración inicial\napp = Dash(__name__)\nlaunch_sites = spacex_df['Launch Site'].unique()\n\n# Layout del dashboard\napp.layout = html.Div([\n    html.H1('SpaceX Launch Dashboard', style={'textAlign': 'center'}),\n    \n    dcc.Dropdown(\n        id='site-dropdown',\n        options=[{'label': 'All Sites', 'value': 'ALL'}] + \n               [{'label': site, 'value': site} for site in launch_sites],\n        value='ALL'\n    ),\n    \n    dcc.Graph(id='success-pie-chart'),\n    \n    html.P(\"Payload Range (Kg):\"),\n    dcc.RangeSlider(\n        id='payload-slider',\n        min=0, max=10000, step=1000,\n        marks={i: str(i) for i in range(0, 10001, 2000)},\n        value=[spacex_df['Payload Mass (kg)'].min(), spacex_df['Payload Mass (kg)'].max()]\n    ),\n    \n    dcc.Graph(id='success-payload-scatter-chart')\n])\n\n# Callbacks\n@app.callback(\n    Output('success-pie-chart', 'figure'),\n    Input('site-dropdown', 'value')\n)\ndef update_pie(selected_site):\n    if selected_site == 'ALL':\n        fig = px.pie(spacex_df, names='Launch Site', title='Total Launches by Site')\n    else:\n        filtered_df = spacex_df[spacex_df['Launch Site'] == selected_site]\n        fig = px.pie(filtered_df, names='class', title=f'Success Rate at {selected_site}')\n    return fig\n\n@app.callback(\n    Output('success-payload-scatter-chart', 'figure'),\n    [Input('site-dropdown', 'value'), Input('payload-slider', 'value')]\n)\ndef update_scatter(selected_site, payload_range):\n    low, high = payload_range\n    filtered_df = spacex_df[\n        (spacex_df['Payload Mass (kg)'] >= low) & \n        (spacex_df['Payload Mass (kg)'] <= high)\n    ]\n    \n    if selected_site != 'ALL':\n        filtered_df = filtered_df[filtered_df['Launch Site'] == selected_site]\n        \n    fig = px.scatter(\n        filtered_df, \n        x='Payload Mass (kg)', \n        y='class',\n        color='Booster Version Category',\n        title='Payload vs. Launch Outcome'\n    )\n    return fig\n\nif __name__ == '__main__':\n    app.run_server(host='0.0.0.0', port=8050)",
      "metadata": {
        "trusted": true
      },
      "outputs": [
        {
          "ename": "<class 'OSError'>",
          "evalue": "Not available",
          "traceback": [
            "\u001b[0;31m---------------------------------------------------------------------------\u001b[0m",
            "\u001b[0;31mOSError\u001b[0m                                   Traceback (most recent call last)",
            "Cell \u001b[0;32mIn[4], line 3\u001b[0m\n\u001b[1;32m      1\u001b[0m \u001b[38;5;66;03m# PRIMERO: Instalar paquetes usando el método de IBM\u001b[39;00m\n\u001b[1;32m      2\u001b[0m \u001b[38;5;28;01mimport\u001b[39;00m \u001b[38;5;21;01msys\u001b[39;00m\n\u001b[0;32m----> 3\u001b[0m \u001b[43mget_ipython\u001b[49m\u001b[43m(\u001b[49m\u001b[43m)\u001b[49m\u001b[38;5;241;43m.\u001b[39;49m\u001b[43msystem\u001b[49m\u001b[43m(\u001b[49m\u001b[38;5;124;43m'\u001b[39;49m\u001b[38;5;132;43;01m{sys.executable}\u001b[39;49;00m\u001b[38;5;124;43m -m pip install --user plotly dash pandas\u001b[39;49m\u001b[38;5;124;43m'\u001b[39;49m\u001b[43m)\u001b[49m\n\u001b[1;32m      5\u001b[0m \u001b[38;5;66;03m# SEGUNDO: Código principal del dashboard\u001b[39;00m\n\u001b[1;32m      6\u001b[0m \u001b[38;5;28;01mimport\u001b[39;00m \u001b[38;5;21;01mpandas\u001b[39;00m \u001b[38;5;28;01mas\u001b[39;00m \u001b[38;5;21;01mpd\u001b[39;00m\n",
            "File \u001b[0;32m/lib/python3.12/site-packages/IPython/core/interactiveshell.py:2653\u001b[0m, in \u001b[0;36mInteractiveShell.system_piped\u001b[0;34m(self, cmd)\u001b[0m\n\u001b[1;32m   2648\u001b[0m     \u001b[38;5;28;01mraise\u001b[39;00m \u001b[38;5;167;01mOSError\u001b[39;00m(\u001b[38;5;124m\"\u001b[39m\u001b[38;5;124mBackground processes not supported.\u001b[39m\u001b[38;5;124m\"\u001b[39m)\n\u001b[1;32m   2650\u001b[0m \u001b[38;5;66;03m# we explicitly do NOT return the subprocess status code, because\u001b[39;00m\n\u001b[1;32m   2651\u001b[0m \u001b[38;5;66;03m# a non-None value would trigger :func:`sys.displayhook` calls.\u001b[39;00m\n\u001b[1;32m   2652\u001b[0m \u001b[38;5;66;03m# Instead, we store the exit_code in user_ns.\u001b[39;00m\n\u001b[0;32m-> 2653\u001b[0m \u001b[38;5;28mself\u001b[39m\u001b[38;5;241m.\u001b[39muser_ns[\u001b[38;5;124m'\u001b[39m\u001b[38;5;124m_exit_code\u001b[39m\u001b[38;5;124m'\u001b[39m] \u001b[38;5;241m=\u001b[39m \u001b[43msystem\u001b[49m\u001b[43m(\u001b[49m\u001b[38;5;28;43mself\u001b[39;49m\u001b[38;5;241;43m.\u001b[39;49m\u001b[43mvar_expand\u001b[49m\u001b[43m(\u001b[49m\u001b[43mcmd\u001b[49m\u001b[43m,\u001b[49m\u001b[43m \u001b[49m\u001b[43mdepth\u001b[49m\u001b[38;5;241;43m=\u001b[39;49m\u001b[38;5;241;43m1\u001b[39;49m\u001b[43m)\u001b[49m\u001b[43m)\u001b[49m\n",
            "File \u001b[0;32m/lib/python3.12/site-packages/IPython/utils/_process_emscripten.py:11\u001b[0m, in \u001b[0;36msystem\u001b[0;34m(cmd)\u001b[0m\n\u001b[1;32m     10\u001b[0m \u001b[38;5;28;01mdef\u001b[39;00m \u001b[38;5;21msystem\u001b[39m(cmd):\n\u001b[0;32m---> 11\u001b[0m     \u001b[38;5;28;01mraise\u001b[39;00m \u001b[38;5;167;01mOSError\u001b[39;00m(\u001b[38;5;124m\"\u001b[39m\u001b[38;5;124mNot available\u001b[39m\u001b[38;5;124m\"\u001b[39m)\n",
            "\u001b[0;31mOSError\u001b[0m: Not available"
          ],
          "output_type": "error"
        }
      ],
      "execution_count": 4
    },
    {
      "cell_type": "code",
      "source": "",
      "metadata": {
        "trusted": true
      },
      "outputs": [],
      "execution_count": null
    }
  ]
}