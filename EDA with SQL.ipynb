{
 "cells": [
  {
   "cell_type": "markdown",
   "id": "72aa5c4a",
   "metadata": {},
   "source": [
    "# 🛰️ Análisis Exploratorio de Datos (EDA) con SQL – SpaceX\n",
    "\n",
    "Este cuaderno contiene la carga, conexión, limpieza y análisis de datos del conjunto de datos de SpaceX usando SQL en SQLite."
   ]
  },
  {
   "cell_type": "code",
   "execution_count": null,
   "id": "16bf8b57",
   "metadata": {},
   "outputs": [],
   "source": [
    "# Instalación de librerías necesarias\n",
    "!pip install sqlalchemy==1.3.9\n",
    "!pip install ipython-sql prettytable\n",
    "!pip install -q pandas"
   ]
  },
  {
   "cell_type": "code",
   "execution_count": null,
   "id": "38a0f24a",
   "metadata": {},
   "outputs": [],
   "source": [
    "# Cargar la extensión SQL\n",
    "%load_ext sql"
   ]
  },
  {
   "cell_type": "code",
   "execution_count": null,
   "id": "2886a43b",
   "metadata": {},
   "outputs": [],
   "source": [
    "# Conectarse a SQLite y preparar entorno\n",
    "import csv, sqlite3\n",
    "import prettytable\n",
    "prettytable.DEFAULT = 'DEFAULT'\n",
    "\n",
    "con = sqlite3.connect(\"my_data1.db\")\n",
    "cur = con.cursor()"
   ]
  },
  {
   "cell_type": "code",
   "execution_count": null,
   "id": "72a8afa1",
   "metadata": {},
   "outputs": [],
   "source": [
    "%sql sqlite:///my_data1.db"
   ]
  },
  {
   "cell_type": "code",
   "execution_count": null,
   "id": "6e6edcd1",
   "metadata": {},
   "outputs": [],
   "source": [
    "# Cargar CSV a un DataFrame de pandas\n",
    "import pandas as pd\n",
    "df = pd.read_csv(\"https://cf-courses-data.s3.us.cloud-object-storage.appdomain.cloud/IBM-DS0321EN-SkillsNetwork/labs/module_2/data/Spacex.csv\")\n",
    "df.to_sql(\"SPACEXTBL\", con, if_exists='replace', index=False, method=\"multi\")"
   ]
  },
  {
   "cell_type": "code",
   "execution_count": null,
   "id": "82d04277",
   "metadata": {},
   "outputs": [],
   "source": [
    "# Eliminar tabla si existe y crear una limpia sin valores nulos en la columna Date\n",
    "%sql DROP TABLE IF EXISTS SPACEXTABLE;\n",
    "%sql CREATE TABLE SPACEXTABLE AS SELECT * FROM SPACEXTBL WHERE Date IS NOT NULL;"
   ]
  },
  {
   "cell_type": "markdown",
   "id": "ef0e0e21",
   "metadata": {},
   "source": [
    "## ✅ Consultas SQL del laboratorio de EDA"
   ]
  },
  {
   "cell_type": "code",
   "execution_count": null,
   "id": "6d66164b",
   "metadata": {},
   "outputs": [],
   "source": [
    "%%sql\n",
    "-- 1. Sitios únicos de lanzamiento\n",
    "SELECT DISTINCT Launch_Site FROM SPACEXTABLE;"
   ]
  },
  {
   "cell_type": "code",
   "execution_count": null,
   "id": "191a87d8",
   "metadata": {},
   "outputs": [],
   "source": [
    "%%sql\n",
    "-- 2. Número de lanzamientos por sitio\n",
    "SELECT Launch_Site, COUNT(*) AS Total_Launches\n",
    "FROM SPACEXTABLE\n",
    "GROUP BY Launch_Site;"
   ]
  },
  {
   "cell_type": "code",
   "execution_count": null,
   "id": "f2553d82",
   "metadata": {},
   "outputs": [],
   "source": [
    "%%sql\n",
    "-- 3. Fallos en drones en 2015\n",
    "SELECT substr(Date, 6, 2) AS Month, \"Landing_Outcome\", Booster_Version, Launch_Site\n",
    "FROM SPACEXTABLE\n",
    "WHERE substr(Date, 0, 5) = '2015'\n",
    "  AND \"Landing_Outcome\" = 'Failure (drone ship)';"
   ]
  },
  {
   "cell_type": "code",
   "execution_count": null,
   "id": "90be194c",
   "metadata": {},
   "outputs": [],
   "source": [
    "%%sql\n",
    "-- 4. Rankear resultados de aterrizaje\n",
    "SELECT \"Landing_Outcome\", COUNT(*) AS Outcome_Count\n",
    "FROM SPACEXTABLE\n",
    "WHERE Date BETWEEN '2010-06-04' AND '2017-03-20'\n",
    "GROUP BY \"Landing_Outcome\"\n",
    "ORDER BY Outcome_Count DESC;"
   ]
  },
  {
   "cell_type": "code",
   "execution_count": null,
   "id": "60a2bc02",
   "metadata": {},
   "outputs": [],
   "source": [
    "%%sql\n",
    "-- 5. Primeras 20 filas\n",
    "SELECT * FROM SPACEXTABLE LIMIT 20;"
   ]
  },
  {
   "cell_type": "code",
   "execution_count": null,
   "id": "b2eb75fe",
   "metadata": {},
   "outputs": [],
   "source": [
    "%%sql\n",
    "-- 6. Lanzamientos por órbita\n",
    "SELECT Orbit, COUNT(*) AS Total\n",
    "FROM SPACEXTABLE\n",
    "GROUP BY Orbit\n",
    "ORDER BY Total DESC;"
   ]
  },
  {
   "cell_type": "code",
   "execution_count": null,
   "id": "eb6d8cfd",
   "metadata": {},
   "outputs": [],
   "source": [
    "%%sql\n",
    "-- 7. Aterrizajes exitosos en drone ship\n",
    "SELECT COUNT(*) AS Successful_Drone_Landings\n",
    "FROM SPACEXTABLE\n",
    "WHERE \"Landing_Outcome\" = 'Success (drone ship)';"
   ]
  },
  {
   "cell_type": "code",
   "execution_count": null,
   "id": "c1eab6a2",
   "metadata": {},
   "outputs": [],
   "source": [
    "%%sql\n",
    "-- 8. Fallos en aterrizajes\n",
    "SELECT COUNT(*) AS Failed_Landings\n",
    "FROM SPACEXTABLE\n",
    "WHERE \"Landing_Outcome\" LIKE 'Failure%';"
   ]
  },
  {
   "cell_type": "code",
   "execution_count": null,
   "id": "37045d3c",
   "metadata": {},
   "outputs": [],
   "source": [
    "%%sql\n",
    "-- 9. Lanzamientos por cliente\n",
    "SELECT Customer, COUNT(*) AS Total_Missions\n",
    "FROM SPACEXTABLE\n",
    "GROUP BY Customer\n",
    "ORDER BY Total_Missions DESC;"
   ]
  }
 ],
 "metadata": {},
 "nbformat": 4,
 "nbformat_minor": 5
}
