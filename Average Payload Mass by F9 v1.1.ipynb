{
  "metadata": {
    "kernelspec": {
      "name": "python",
      "display_name": "Python (Pyodide)",
      "language": "python"
    },
    "language_info": {
      "codemirror_mode": {
        "name": "python",
        "version": 3
      },
      "file_extension": ".py",
      "mimetype": "text/x-python",
      "name": "python",
      "nbconvert_exporter": "python",
      "pygments_lexer": "ipython3",
      "version": "3.8"
    }
  },
  "nbformat_minor": 4,
  "nbformat": 4,
  "cells": [
    {
      "cell_type": "code",
      "source": "import csv\n\nwith open('dataset_part_2.csv', newline='') as csvfile:\n    reader = csv.DictReader(csvfile)\n    payloads = []\n    for row in reader:\n        if row['BoosterVersion'] == 'F9 v1.1' and row['PayloadMass']:\n            try:\n                payloads.append(float(row['PayloadMass']))\n            except:\n                pass\n    avg_payload = sum(payloads) / len(payloads) if payloads else 0\nprint(\"Average payload mass for F9 v1.1:\", avg_payload)\n",
      "metadata": {
        "trusted": true
      },
      "outputs": [
        {
          "name": "stdout",
          "text": "Average payload mass for F9 v1.1: 0\n",
          "output_type": "stream"
        }
      ],
      "execution_count": 1
    },
    {
      "cell_type": "code",
      "source": "import csv\n\nwith open('dataset_part_2.csv', newline='') as csvfile:\n    reader = csv.DictReader(csvfile)\n    payloads = []\n    for row in reader:\n        if row['BoosterVersion'].strip() == 'F9 v1.1':\n            try:\n                mass = float(row['PayloadMass'])\n                payloads.append(mass)\n            except:\n                continue\n    avg_payload = sum(payloads) / len(payloads) if payloads else 0\nprint(\"Average payload mass for F9 v1.1:\", avg_payload)\n",
      "metadata": {
        "trusted": true
      },
      "outputs": [
        {
          "name": "stdout",
          "text": "Average payload mass for F9 v1.1: 0\n",
          "output_type": "stream"
        }
      ],
      "execution_count": 2
    },
    {
      "cell_type": "code",
      "source": "import csv\n\nwith open('dataset_part_2.csv', newline='') as csvfile:\n    reader = csv.DictReader(csvfile)\n    boosters = set()\n    for row in reader:\n        boosters.add(row['BoosterVersion'].strip())\nprint(boosters)\n",
      "metadata": {
        "trusted": true
      },
      "outputs": [
        {
          "name": "stdout",
          "text": "{'Falcon 9'}\n",
          "output_type": "stream"
        }
      ],
      "execution_count": 3
    },
    {
      "cell_type": "code",
      "source": "",
      "metadata": {
        "trusted": true
      },
      "outputs": [],
      "execution_count": null
    }
  ]
}